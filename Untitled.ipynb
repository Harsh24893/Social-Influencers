{
 "cells": [
  {
   "cell_type": "code",
   "execution_count": 1,
   "metadata": {
    "collapsed": false
   },
   "outputs": [],
   "source": [
    "import numpy as np\n",
    "\n",
    "from sklearn import linear_model\n",
    "from sklearn.metrics import roc_curve, auc, roc_auc_score\n",
    "import matplotlib.pyplot as plt"
   ]
  },
  {
   "cell_type": "code",
   "execution_count": 2,
   "metadata": {
    "collapsed": true
   },
   "outputs": [],
   "source": [
    "trainfile = open('train.csv')"
   ]
  },
  {
   "cell_type": "code",
   "execution_count": 3,
   "metadata": {
    "collapsed": true
   },
   "outputs": [],
   "source": [
    "for line in trainfile:\n",
    "    head = line.rstrip().split(',')\n",
    "    break"
   ]
  },
  {
   "cell_type": "code",
   "execution_count": 4,
   "metadata": {
    "collapsed": true
   },
   "outputs": [],
   "source": [
    "X_train_A = []\n",
    "X_train_B = []\n",
    "y_train = []"
   ]
  },
  {
   "cell_type": "code",
   "execution_count": 5,
   "metadata": {
    "collapsed": true
   },
   "outputs": [],
   "source": [
    "for line in trainfile:\n",
    "    splitted = line.rstrip().split(',')\n",
    "    label = int(splitted[0])\n",
    "    A_features = [float(item) for item in splitted[1:12]]\n",
    "    B_features = [float(item) for item in splitted[12:]]\n",
    "    y_train.append(label)\n",
    "    X_train_A.append(A_features)\n",
    "    X_train_B.append(B_features)\n",
    "#     print A_features\n",
    "trainfile.close()"
   ]
  },
  {
   "cell_type": "code",
   "execution_count": 6,
   "metadata": {
    "collapsed": true
   },
   "outputs": [],
   "source": [
    "y_train = np.array(y_train)\n",
    "X_train_A = np.array(X_train_A)\n",
    "X_train_B = np.array(X_train_B)"
   ]
  },
  {
   "cell_type": "code",
   "execution_count": 7,
   "metadata": {
    "collapsed": true
   },
   "outputs": [],
   "source": [
    "def transform_features(x):\n",
    "    return np.log(1+x)"
   ]
  },
  {
   "cell_type": "code",
   "execution_count": 8,
   "metadata": {
    "collapsed": true
   },
   "outputs": [],
   "source": [
    "for i in range(len(y_train)):\n",
    "    if y_train[i] == 0:\n",
    "        y_train[i] = -1"
   ]
  },
  {
   "cell_type": "code",
   "execution_count": 9,
   "metadata": {
    "collapsed": true
   },
   "outputs": [],
   "source": [
    "X_train = transform_features(X_train_A) - transform_features(X_train_B)"
   ]
  },
  {
   "cell_type": "code",
   "execution_count": 10,
   "metadata": {
    "collapsed": true
   },
   "outputs": [],
   "source": [
    "def normalize(X):\n",
    "    X_norm = X\n",
    "    cols = X.shape[1]\n",
    "    for i in range(cols):\n",
    "        m = np.mean(X[:, i])\n",
    "        std = np.std(X[:, i])\n",
    "        X_norm[:, i] = (X[:, i] - m)/std\n",
    "    return X_norm"
   ]
  },
  {
   "cell_type": "code",
   "execution_count": 11,
   "metadata": {
    "collapsed": true
   },
   "outputs": [],
   "source": [
    "np.random.seed(1)      #Seed the random number generator to preserve the dev/test split\n",
    "permutation = np.random.permutation(X_train.shape[0])\n",
    "X_train = X_train[permutation,]\n",
    "y_train = y_train[permutation,]\n",
    "X_train = normalize(X_train)"
   ]
  },
  {
   "cell_type": "code",
   "execution_count": 12,
   "metadata": {
    "collapsed": false
   },
   "outputs": [
    {
     "name": "stdout",
     "output_type": "stream",
     "text": [
      "5500\n"
     ]
    }
   ],
   "source": [
    "print len(X_train)"
   ]
  },
  {
   "cell_type": "code",
   "execution_count": 13,
   "metadata": {
    "collapsed": true
   },
   "outputs": [],
   "source": [
    "indices = np.random.permutation(X_train.shape[0])\n",
    "training_idx, test_idx = indices[:5000], indices[5000:]\n",
    "X_t = X_train[training_idx,:]\n",
    "X_test = X_train[test_idx, :]\n",
    "y_t = y_train[training_idx,]\n",
    "y_test = y_train[test_idx,]"
   ]
  },
  {
   "cell_type": "code",
   "execution_count": 14,
   "metadata": {
    "collapsed": true
   },
   "outputs": [],
   "source": [
    "X_train = X_t\n",
    "Y_train = y_t"
   ]
  },
  {
   "cell_type": "code",
   "execution_count": 15,
   "metadata": {
    "collapsed": true
   },
   "outputs": [],
   "source": [
    "model = linear_model.LogisticRegression(fit_intercept=False, max_iter=100, penalty='l2', verbose=1)"
   ]
  },
  {
   "cell_type": "code",
   "execution_count": 16,
   "metadata": {
    "collapsed": false
   },
   "outputs": [
    {
     "name": "stdout",
     "output_type": "stream",
     "text": [
      "[LibLinear]"
     ]
    },
    {
     "data": {
      "text/plain": [
       "LogisticRegression(C=1.0, class_weight=None, dual=False, fit_intercept=False,\n",
       "          intercept_scaling=1, max_iter=100, multi_class='ovr', n_jobs=1,\n",
       "          penalty='l2', random_state=None, solver='liblinear', tol=0.0001,\n",
       "          verbose=1, warm_start=False)"
      ]
     },
     "execution_count": 16,
     "metadata": {},
     "output_type": "execute_result"
    }
   ],
   "source": [
    "model.fit(X_train,Y_train)"
   ]
  },
  {
   "cell_type": "code",
   "execution_count": 17,
   "metadata": {
    "collapsed": true
   },
   "outputs": [],
   "source": [
    "p_test = model.predict_proba(X_test)"
   ]
  },
  {
   "cell_type": "code",
   "execution_count": 36,
   "metadata": {
    "collapsed": true
   },
   "outputs": [],
   "source": [
    "false_positive_rate, true_positive_rate, _ = roc_curve(y_test, p_test[:,1])\n",
    "roc_auc = auc(false_positive_rate, true_positive_rate)"
   ]
  },
  {
   "cell_type": "code",
   "execution_count": 37,
   "metadata": {
    "collapsed": false
   },
   "outputs": [
    {
     "data": {
      "text/plain": [
       "[<matplotlib.lines.Line2D at 0x114bb5d10>]"
      ]
     },
     "execution_count": 37,
     "metadata": {},
     "output_type": "execute_result"
    }
   ],
   "source": [
    "roc_label = '{0} {1:0.5f}'.format(\"ROC Curve\", roc_auc)\n",
    "plt.plot(false_positive_rate, true_positive_rate, label=roc_label, linewidth=2)"
   ]
  },
  {
   "cell_type": "code",
   "execution_count": 40,
   "metadata": {
    "collapsed": false
   },
   "outputs": [
    {
     "name": "stdout",
     "output_type": "stream",
     "text": [
      "[-1 -1  1  1  1  1  1 -1  1  1 -1 -1  1 -1 -1 -1  1 -1  1 -1  1  1  1 -1  1\n",
      "  1  1  1 -1 -1 -1  1  1 -1 -1  1 -1  1 -1  1  1 -1  1  1  1 -1 -1 -1 -1 -1\n",
      "  1 -1 -1 -1 -1  1  1 -1  1  1  1  1  1  1 -1  1 -1 -1  1 -1  1  1 -1  1 -1\n",
      "  1 -1  1  1 -1 -1  1 -1  1  1 -1 -1  1  1  1 -1 -1  1  1 -1  1  1  1  1 -1\n",
      "  1  1 -1 -1  1  1  1 -1 -1 -1 -1 -1  1 -1  1 -1 -1 -1  1 -1  1 -1 -1 -1  1\n",
      "  1  1 -1  1 -1 -1 -1  1  1  1  1  1  1  1 -1 -1 -1 -1 -1  1 -1 -1 -1  1 -1\n",
      "  1 -1  1 -1  1  1  1  1  1  1  1 -1  1  1 -1  1 -1  1 -1 -1 -1  1 -1 -1  1\n",
      "  1  1  1  1 -1  1 -1  1  1  1  1 -1  1  1 -1  1 -1  1  1  1  1 -1  1  1 -1\n",
      " -1  1  1 -1 -1  1  1  1  1 -1  1 -1  1 -1 -1 -1  1 -1  1 -1 -1  1  1  1  1\n",
      " -1  1 -1 -1 -1 -1 -1  1 -1 -1  1  1 -1 -1 -1  1  1  1 -1  1  1 -1 -1  1 -1\n",
      " -1 -1  1  1  1  1  1  1 -1 -1  1  1  1  1 -1 -1 -1  1 -1  1  1 -1 -1 -1  1\n",
      "  1  1 -1 -1  1 -1 -1 -1 -1  1  1  1  1  1  1 -1  1  1 -1 -1  1 -1  1 -1  1\n",
      " -1  1  1 -1  1  1 -1  1  1 -1  1 -1  1  1 -1 -1  1 -1  1 -1 -1 -1 -1 -1  1\n",
      "  1 -1  1  1  1 -1  1 -1 -1  1 -1  1  1 -1  1  1  1  1  1 -1 -1 -1  1 -1  1\n",
      " -1  1 -1 -1 -1  1 -1 -1 -1  1 -1 -1 -1  1 -1 -1 -1 -1  1 -1 -1 -1 -1 -1 -1\n",
      " -1  1 -1  1 -1 -1  1  1 -1 -1 -1  1 -1 -1 -1 -1  1 -1  1 -1  1 -1 -1 -1  1\n",
      " -1  1  1 -1  1  1 -1 -1 -1  1 -1  1  1 -1 -1  1 -1  1 -1 -1  1 -1 -1 -1  1\n",
      "  1 -1 -1 -1  1  1  1 -1  1  1  1  1  1  1  1  1 -1  1  1  1  1  1  1 -1  1\n",
      " -1 -1  1  1 -1 -1  1  1  1 -1  1  1 -1  1  1  1  1 -1  1  1 -1  1 -1  1 -1\n",
      "  1  1  1 -1  1  1  1 -1 -1  1 -1 -1  1 -1 -1 -1  1  1 -1  1  1 -1 -1  1 -1]\n"
     ]
    }
   ],
   "source": []
  },
  {
   "cell_type": "code",
   "execution_count": 38,
   "metadata": {
    "collapsed": false
   },
   "outputs": [],
   "source": [
    "plt.title('Receiver Operating Characteristic (ROC)')\n",
    "plt.legend(loc='lower right')\n",
    "plt.plot([0, 1], [0, 1], 'k--')     # plot the diagonal\n",
    "plt.xlim([-0.1, 1.2])\n",
    "plt.ylim([-0.1, 1.2])\n",
    "plt.ylabel('True Positive Rate')\n",
    "plt.xlabel('False Positive Rate')\n",
    "plt.savefig('roc-1.png')\n",
    "# plt.show()"
   ]
  },
  {
   "cell_type": "code",
   "execution_count": 39,
   "metadata": {
    "collapsed": false
   },
   "outputs": [
    {
     "data": {
      "image/png": "[encoded data removed]",
      "text/plain": [
       "<matplotlib.figure.Figure at 0x114a88a10>"
      ]
     },
     "metadata": {},
     "output_type": "display_data"
    }
   ],
   "source": [
    "plt.show()"
   ]
  },
  {
   "cell_type": "code",
   "execution_count": 18,
   "metadata": {
    "collapsed": true
   },
   "outputs": [],
   "source": [
    "import roc_curves"
   ]
  },
  {
   "cell_type": "code",
   "execution_count": 19,
   "metadata": {
    "collapsed": false
   },
   "outputs": [
    {
     "data": {
      "image/png": "[encoded data removed]",
      "text/plain": [
       "<matplotlib.figure.Figure at 0x102ca0810>"
      ]
     },
     "metadata": {},
     "output_type": "display_data"
    }
   ],
   "source": [
    "roc_curves.plotROCCuves(y_test, p_test[:,1], \"roc.png\", \"lr\")"
   ]
  },
  {
   "cell_type": "code",
   "execution_count": null,
   "metadata": {
    "collapsed": true
   },
   "outputs": [],
   "source": []
  }
 ],
 "metadata": {
  "kernelspec": {
   "display_name": "Python [conda root]",
   "language": "python",
   "name": "conda-root-py"
  },
  "language_info": {
   "codemirror_mode": {
    "name": "ipython",
    "version": 2
   },
   "file_extension": ".py",
   "mimetype": "text/x-python",
   "name": "python",
   "nbconvert_exporter": "python",
   "pygments_lexer": "ipython2",
   "version": "2.7.13"
  }
 },
 "nbformat": 4,
 "nbformat_minor": 2
}
